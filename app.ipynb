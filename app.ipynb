{
 "cells": [
  {
   "cell_type": "code",
   "execution_count": 1,
   "id": "8c92a1f4-effe-42be-a731-89a4e7c46000",
   "metadata": {},
   "outputs": [],
   "source": [
    "import pandas as pd\n",
    "from flask import Flask,render_template,request,jsonify\n",
    "import pickle\n",
    "import numpy as np"
   ]
  },
  {
   "cell_type": "code",
   "execution_count": 2,
   "id": "342573f4-ffa0-4fb2-bd94-4c4d55785932",
   "metadata": {},
   "outputs": [],
   "source": [
    "app=Flask(__name__)"
   ]
  },
  {
   "cell_type": "code",
   "execution_count": 3,
   "id": "db7a781e-aeaf-44d1-bc0f-46dde4c01bd8",
   "metadata": {},
   "outputs": [],
   "source": [
    "model=pickle.load(open(\"model.pkl\",\"rb\"))"
   ]
  },
  {
   "cell_type": "code",
   "execution_count": 4,
   "id": "a3383d4a-416f-408d-bc08-d56ea74defc6",
   "metadata": {},
   "outputs": [
    {
     "name": "stdout",
     "output_type": "stream",
     "text": [
      " * Serving Flask app '__main__'\n",
      " * Debug mode: on\n"
     ]
    },
    {
     "name": "stderr",
     "output_type": "stream",
     "text": [
      "WARNING: This is a development server. Do not use it in a production deployment. Use a production WSGI server instead.\n",
      " * Running on http://127.0.0.1:5000\n",
      "Press CTRL+C to quit\n",
      "127.0.0.1 - - [23/Nov/2022 15:40:19] \"GET / HTTP/1.1\" 200 -\n",
      "127.0.0.1 - - [23/Nov/2022 15:40:19] \"GET /static/kidney_new.jpg HTTP/1.1\" 304 -\n",
      "127.0.0.1 - - [23/Nov/2022 15:40:19] \"GET /static/kidney_new6.jpg HTTP/1.1\" 304 -\n",
      "127.0.0.1 - - [23/Nov/2022 15:40:19] \"GET /static/kidney_new5.jpg HTTP/1.1\" 304 -\n",
      "127.0.0.1 - - [23/Nov/2022 15:40:35] \"POST /predict HTTP/1.1\" 200 -\n",
      "127.0.0.1 - - [23/Nov/2022 15:40:35] \"GET /static/kidney_new.jpg HTTP/1.1\" 200 -\n",
      "127.0.0.1 - - [23/Nov/2022 15:40:35] \"GET /static/kidney_new5.jpg HTTP/1.1\" 200 -\n",
      "127.0.0.1 - - [23/Nov/2022 15:40:35] \"GET /static/kidney_new6.jpg HTTP/1.1\" 200 -\n"
     ]
    }
   ],
   "source": [
    "@app.route(\"/\")\n",
    "def home():\n",
    "    return render_template(\"home.html\")\n",
    "@app.route(\"/about\")\n",
    "def about():\n",
    "    return render_template(\"aboutdata.html\")\n",
    "\n",
    "@app.route(\"/predict\", methods=[\"POST\"])\n",
    "def predict():\n",
    "    try:\n",
    "        float_features = [float(x) for x in request.form.values()]\n",
    "        features = [np.array(float_features)]\n",
    "        prediction = model.predict(features)\n",
    "        if prediction ==1:\n",
    "                 return render_template(\"stonespos.html\",\n",
    "                                        prediction_text1 = \n",
    "                                        \"Your test results indicate the presence of kidney stones.We recommend that you consult your doctor with your urine test values\") \n",
    "        elif prediction==0:\n",
    "                return render_template(\"stonesneg.html\",prediction_text2 = \"Your test results indicate the absence of kidney stones.We wish you healthy days\" )\n",
    "    except ValueError:\n",
    "        return  render_template(\"stoneswrong.html\",prediction_text3 = \"Please fill the form with numeric values otherwise calculation cannot be done\" )\n",
    "            \n",
    "if __name__ == \"__main__\":\n",
    "    app.run(debug=True, use_reloader=False)"
   ]
  },
  {
   "cell_type": "code",
   "execution_count": null,
   "id": "51bc3b19-9b0e-4dd9-bda4-1af0add33fe9",
   "metadata": {},
   "outputs": [],
   "source": []
  },
  {
   "cell_type": "code",
   "execution_count": null,
   "id": "6cab6bbf-7689-4697-af62-da21999f992d",
   "metadata": {},
   "outputs": [],
   "source": []
  },
  {
   "cell_type": "code",
   "execution_count": null,
   "id": "a7378036-5b6e-458e-9b23-9f02c6ab675b",
   "metadata": {},
   "outputs": [],
   "source": []
  }
 ],
 "metadata": {
  "kernelspec": {
   "display_name": "Python 3 (ipykernel)",
   "language": "python",
   "name": "python3"
  },
  "language_info": {
   "codemirror_mode": {
    "name": "ipython",
    "version": 3
   },
   "file_extension": ".py",
   "mimetype": "text/x-python",
   "name": "python",
   "nbconvert_exporter": "python",
   "pygments_lexer": "ipython3",
   "version": "3.10.8"
  }
 },
 "nbformat": 4,
 "nbformat_minor": 5
}
